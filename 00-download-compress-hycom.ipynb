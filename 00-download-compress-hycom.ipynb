{
 "cells": [
  {
   "cell_type": "markdown",
   "id": "d99e27e3",
   "metadata": {},
   "source": [
    "# ESSE NOTEBOOK NÃO DEVE SER RODADO! ELE EXISTE APENAS PARA DOCUMENTAR COMO OBTIVEMOS OS DADOS DO HYCOM!!"
   ]
  },
  {
   "cell_type": "markdown",
   "id": "4ef8858c",
   "metadata": {},
   "source": [
    "Site [1] to portal do HyCOM que descreve as diversas implementações do modelo ao longo dos anos:\n",
    "\n",
    "O acesso por THREDDS/OPeNDAP ou ftp é super lento e falha bastante.\n",
    "Nossa melhor chance é pegar por HTTPS mesmo da URL em [2].\n",
    "A descrição do experimento `GLBu0.08` 91.2 é: _Uniform (1/12° resolution) grid between 80.48°S and 80.48°N_\n",
    "\n",
    "Os arquivos são nomeados no formato \"`hycon_grade_experimento_data_hora_campo`\", por exemplo `hycom_glb_912_2017010100_t000_uv3z.nc`. Os campos ice, ssh, sur, ts3z, uv3z, etc são descritos em [1].\n",
    "\n",
    "> **Note**\n",
    "> Note que nem todos os experimentos tem todos os formatos!\n",
    "\n",
    "1. https://www.hycom.org/data/glbu0pt08/expt-91pt2\n",
    "2. https://data.hycom.org/datasets/GLBu0.08/expt_91.2/data/hindcasts\n",
    " \n",
    "\n",
    "> **Warning**\n",
    "> Existem experimentos mais novos que o GLB0.08 mas esse é o único que tem 2016/2017."
   ]
  },
  {
   "cell_type": "code",
   "execution_count": null,
   "id": "111d5b31",
   "metadata": {},
   "outputs": [],
   "source": [
    "from pathlib import Path\n",
    "import requests\n",
    "from tqdm import tqdm\n",
    "import lxml.html\n",
    "import subprocess\n",
    "\n",
    "\n",
    "def url_lister(url: str) -> list:\n",
    "    urls = []\n",
    "    r = requests.get(url, allow_redirects=True)\n",
    "    dom = lxml.html.fromstring(r.text)\n",
    "    for link in dom.xpath(\"//a/@href\"):\n",
    "        urls.append(link)\n",
    "    return urls\n",
    "\n",
    "\n",
    "def compress_netcdf(fname: Path):\n",
    "    ret = None\n",
    "    fname = fname.absolute()\n",
    "    outfile = fname.with_suffix(\".nc4\")\n",
    "    if not outfile.is_file():\n",
    "        call = [\"ncks\", \"-4\", \"-L 1\", str(fname), str(outfile)]\n",
    "        ret = subprocess.run(call, capture_output=True)\n",
    "        print(ret.stdout.decode())\n",
    "    if ret and ret.returncode == 0:\n",
    "        print(f\"Converted {fname} to {outfile}.\")\n",
    "    else:\n",
    "        raise Exception(f\"Could no compress file {fname}\")\n",
    "\n",
    "\n",
    "def download(url: str, outfile: Path):\n",
    "    response = requests.get(url, stream=True, allow_redirects=True)\n",
    "    total_size_in_bytes= int(response.headers.get(\"content-length\", 0))\n",
    "    block_size = 1024 #1 Kibibyte\n",
    "    progress_bar = tqdm(total=total_size_in_bytes, unit=\"iB\", unit_scale=True)\n",
    "    with outfile.open(mode=\"wb\") as f:\n",
    "        for data in response.iter_content(block_size):\n",
    "            progress_bar.update(len(data))\n",
    "            f.write(data)\n",
    "    progress_bar.close()\n",
    "    if total_size_in_bytes != 0 and progress_bar.n != total_size_in_bytes:\n",
    "        print(f\"Something went wrong while writing {outfile}.\")"
   ]
  },
  {
   "cell_type": "code",
   "execution_count": null,
   "id": "da09ebb4",
   "metadata": {},
   "outputs": [],
   "source": [
    "# Filter for year and month b/c we do not want to download everything in one go.\n",
    "year, month = \"2016\", \"12\"\n",
    "\n",
    "url = f\"http://data.hycom.org/datasets/GLBu0.08/expt_91.2/data/hindcasts/{year}\"\n",
    "urls = url_lister(url)\n",
    "\n",
    "# Filter ony the velocity files, chanfe it to t000_ts3z.nc for temperature and salinity.\n",
    "fnames = [fname for fname in urls if fname.endswith(\"t000_uv3z.nc\")]\n",
    "\n",
    "name_list = set([fname for fname in fnames if fname.startswith(f\"hycom_glb_912_{year}{month}\")])"
   ]
  },
  {
   "cell_type": "code",
   "execution_count": null,
   "id": "53a08899",
   "metadata": {
    "scrolled": false
   },
   "outputs": [],
   "source": [
    "for fname in name_list:\n",
    "    fname = Path(fname)\n",
    "    local_name = fname.parent.joinpath(\"hycom\", fname.name)\n",
    "    final_name = local_name.with_suffix(\".nc4\")\n",
    "\n",
    "    if not final_name.is_file():\n",
    "        remote = f\"{url}/{fname.name}\"\n",
    "        download(remote, local_name)\n",
    "        print(f\"Downloading file from {remote}\\n\")\n",
    "        compress_netcdf(local_name)\n",
    "        local_name.unlink()\n",
    "    else:\n",
    "        print(f\"File {final_name} already exits.\")"
   ]
  }
 ],
 "metadata": {
  "kernelspec": {
   "display_name": "Python 3 (ipykernel)",
   "language": "python",
   "name": "python3"
  },
  "language_info": {
   "codemirror_mode": {
    "name": "ipython",
    "version": 3
   },
   "file_extension": ".py",
   "mimetype": "text/x-python",
   "name": "python",
   "nbconvert_exporter": "python",
   "pygments_lexer": "ipython3",
   "version": "3.10.5"
  }
 },
 "nbformat": 4,
 "nbformat_minor": 5
}
