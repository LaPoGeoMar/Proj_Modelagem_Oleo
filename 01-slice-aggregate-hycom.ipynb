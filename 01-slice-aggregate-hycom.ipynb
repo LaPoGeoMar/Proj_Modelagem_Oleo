{
 "cells": [
  {
   "cell_type": "code",
   "execution_count": null,
   "id": "57e31678",
   "metadata": {
    "scrolled": false
   },
   "outputs": [],
   "source": [
    "import xarray as xr\n",
    "import cftime\n",
    "\n",
    "min_lat, max_lat = -33, -24\n",
    "min_lon, max_lon = -53, -44\n",
    "\n",
    "\n",
    "def get_datetime(ds):\n",
    "    date_time = cftime.num2date(\n",
    "        times=ds[\"time\"],\n",
    "        units=ds[\"time\"].units,\n",
    "        calendar=ds[\"time\"].calendar,\n",
    "    )\n",
    "    return date_time.strftime(\"%Y-%m-%d\")\n",
    "\n",
    "\n",
    "def slice_daily_roi(fname):\n",
    "    ds = xr.open_dataset(fname, decode_times=False)\n",
    "    ds = ds.assign_coords(lon=(((ds.lon + 180) % 360) - 180))\n",
    "\n",
    "    mask_lon = (ds[\"lon\"] >= min_lon) & (ds[\"lon\"] <= max_lon)\n",
    "    mask_lat = (ds[\"lat\"] >= min_lat) & (ds[\"lat\"] <= max_lat)\n",
    "    subset = ds.where(mask_lon & mask_lat, drop=True).squeeze()\n",
    "\n",
    "    u = subset[\"water_u\"]\n",
    "    v = subset[\"water_v\"]\n",
    "    ds.close()\n",
    "    return xr.merge([u, v])"
   ]
  },
  {
   "cell_type": "code",
   "execution_count": null,
   "id": "9a62d32d",
   "metadata": {},
   "outputs": [],
   "source": [
    "from glob import glob\n",
    "\n",
    "\n",
    "store = \"/media/filipe/HDDJU/hycom\"\n",
    "fnames = sorted(glob(f\"{store}/*.nc4\"))"
   ]
  },
  {
   "cell_type": "code",
   "execution_count": null,
   "id": "57a997b2",
   "metadata": {},
   "outputs": [],
   "source": [
    "datasets = [slice_daily_roi(fname) for fname in fnames]"
   ]
  },
  {
   "cell_type": "code",
   "execution_count": null,
   "id": "1d32555c",
   "metadata": {},
   "outputs": [],
   "source": [
    "ds = xr.concat(datasets, dim=\"time\")\n",
    "ds.to_netcdf(\"hycom-oil.nc\")"
   ]
  },
  {
   "cell_type": "code",
   "execution_count": null,
   "id": "00fed6b5",
   "metadata": {},
   "outputs": [],
   "source": [
    "[tmp.close() for tmp in datasets];\n",
    "ds.close()"
   ]
  }
 ],
 "metadata": {
  "kernelspec": {
   "display_name": "Python 3 (ipykernel)",
   "language": "python",
   "name": "python3"
  },
  "language_info": {
   "codemirror_mode": {
    "name": "ipython",
    "version": 3
   },
   "file_extension": ".py",
   "mimetype": "text/x-python",
   "name": "python",
   "nbconvert_exporter": "python",
   "pygments_lexer": "ipython3",
   "version": "3.10.5"
  }
 },
 "nbformat": 4,
 "nbformat_minor": 5
}
