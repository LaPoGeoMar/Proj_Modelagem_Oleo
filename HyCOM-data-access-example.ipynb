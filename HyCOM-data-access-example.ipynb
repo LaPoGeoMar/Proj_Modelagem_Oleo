{
 "cells": [
  {
   "cell_type": "markdown",
   "id": "4ef8858c",
   "metadata": {},
   "source": [
    "Site [1] to portal do HyCOM que descreve as diversas implementações do modelo ao longo dos anos:\n",
    "\n",
    "O acesso por THREDDS/OPeNDAP ou ftp é super lento e falha bastante.\n",
    "Nossa melhor chance é pegar por HTTPS mesmo da URL em [2].\n",
    "A descrição do experimento `GLBu0.08` 91.2 é: _Uniform (1/12° resolution) grid between 80.48°S and 80.48°N_\n",
    "\n",
    "Os arquivos são nomeados no formato \"`hycon_grade_experimento_data_hora_campo`\", por exemplo `hycom_glb_912_2017010100_t000_uv3z.nc`. Os campos ice, ssh, sur, ts3z, uv3z são descritos em [1].\n",
    "\n",
    "\n",
    "1. https://www.hycom.org/data/glbu0pt08/expt-91pt2\n",
    "2. https://data.hycom.org/datasets/GLBu0.08/expt_91.2/data/hindcasts/2017"
   ]
  },
  {
   "cell_type": "code",
   "execution_count": 1,
   "id": "b586d61e",
   "metadata": {},
   "outputs": [],
   "source": [
    "from pathlib import Path\n",
    "import requests\n",
    "from tqdm import tqdm\n",
    "import lxml.html\n",
    "import subprocess\n",
    "\n",
    "\n",
    "def url_lister(url: str) -> list:\n",
    "    urls = []\n",
    "    r = requests.get(url, allow_redirects=True)\n",
    "    dom = lxml.html.fromstring(r.text)\n",
    "    for link in dom.xpath(\"//a/@href\"):\n",
    "        urls.append(link)\n",
    "    return urls\n",
    "\n",
    "\n",
    "def compress_netcdf(fname: Path):\n",
    "    ret = None\n",
    "    fname = fname.absolute()\n",
    "    outfile = fname.with_suffix(\".nc4\")\n",
    "    if not outfile.is_file():\n",
    "        call = [\"ncks\", \"-4\", \"-L 1\", str(fname), str(outfile)]\n",
    "        ret = subprocess.run(call, capture_output=True)\n",
    "        print(ret.stdout.decode())\n",
    "    if ret and ret.returncode == 0:\n",
    "        print(f\"Converted {fname} to {outfile}.\")\n",
    "    else:\n",
    "        raise Exception(f\"Could no compress file {fname}\")\n",
    "\n",
    "\n",
    "def download(url: str, outfile: Path):\n",
    "    response = requests.get(url, stream=True, allow_redirects=True)\n",
    "    total_size_in_bytes= int(response.headers.get(\"content-length\", 0))\n",
    "    block_size = 1024 #1 Kibibyte\n",
    "    progress_bar = tqdm(total=total_size_in_bytes, unit=\"iB\", unit_scale=True)\n",
    "    with outfile.open(mode=\"wb\") as f:\n",
    "        for data in response.iter_content(block_size):\n",
    "            progress_bar.update(len(data))\n",
    "            f.write(data)\n",
    "    progress_bar.close()\n",
    "    if total_size_in_bytes != 0 and progress_bar.n != total_size_in_bytes:\n",
    "        print(f\"Something went wrong while writing {outfile}.\")"
   ]
  },
  {
   "cell_type": "code",
   "execution_count": 2,
   "id": "1e32b779",
   "metadata": {},
   "outputs": [],
   "source": [
    "url = \"https://data.hycom.org/datasets/GLBu0.08/expt_91.2/data/hindcasts/2017\"\n",
    "\n",
    "urls = url_lister(url)"
   ]
  },
  {
   "cell_type": "code",
   "execution_count": 3,
   "id": "fcd80396",
   "metadata": {},
   "outputs": [],
   "source": [
    "# filter ony the velocity files.\n",
    "fnames = [fname for fname in urls if fname.endswith(\"t000_uv3z.nc\")]\n",
    "\n",
    "# filter for month\n",
    "month = \"09\"\n",
    "name_list = [fname for fname in fnames if fname.startswith(f\"hycom_glb_912_2017{month}\")]"
   ]
  },
  {
   "cell_type": "code",
   "execution_count": null,
   "id": "930a9374",
   "metadata": {
    "scrolled": false
   },
   "outputs": [
    {
     "name": "stderr",
     "output_type": "stream",
     "text": [
      "100%|██████████████████████████████████████████████████████████████████████████████████████████████████████████████████████████████████████████████████████████████████████████| 1.44G/1.44G [03:19<00:00, 7.23MiB/s]\n"
     ]
    },
    {
     "name": "stdout",
     "output_type": "stream",
     "text": [
      "Downloading file from https://data.hycom.org/datasets/GLBu0.08/expt_91.2/data/hindcasts/2017/hycom_glb_912_2017090100_t000_uv3z.nc.\n",
      "\n",
      "Converted /home/filipe/Dropbox/Work/JueFi/Projetos/Proj_Modelagem_Oleo/hycom/hycom_glb_912_2017090100_t000_uv3z.nc to /home/filipe/Dropbox/Work/JueFi/Projetos/Proj_Modelagem_Oleo/hycom/hycom_glb_912_2017090100_t000_uv3z.nc4.\n",
      "File /home/filipe/Dropbox/Work/JueFi/Projetos/Proj_Modelagem_Oleo/hycom/hycom_glb_912_2017090100_t000_uv3z.nc already exits.\n"
     ]
    },
    {
     "name": "stderr",
     "output_type": "stream",
     "text": [
      "100%|██████████████████████████████████████████████████████████████████████████████████████████████████████████████████████████████████████████████████████████████████████████| 1.44G/1.44G [03:15<00:00, 7.37MiB/s]\n"
     ]
    },
    {
     "name": "stdout",
     "output_type": "stream",
     "text": [
      "Downloading file from https://data.hycom.org/datasets/GLBu0.08/expt_91.2/data/hindcasts/2017/hycom_glb_912_2017090200_t000_uv3z.nc.\n",
      "\n",
      "Converted /home/filipe/Dropbox/Work/JueFi/Projetos/Proj_Modelagem_Oleo/hycom/hycom_glb_912_2017090200_t000_uv3z.nc to /home/filipe/Dropbox/Work/JueFi/Projetos/Proj_Modelagem_Oleo/hycom/hycom_glb_912_2017090200_t000_uv3z.nc4.\n",
      "File /home/filipe/Dropbox/Work/JueFi/Projetos/Proj_Modelagem_Oleo/hycom/hycom_glb_912_2017090200_t000_uv3z.nc already exits.\n"
     ]
    },
    {
     "name": "stderr",
     "output_type": "stream",
     "text": [
      "100%|██████████████████████████████████████████████████████████████████████████████████████████████████████████████████████████████████████████████████████████████████████████| 1.44G/1.44G [02:43<00:00, 8.83MiB/s]\n"
     ]
    },
    {
     "name": "stdout",
     "output_type": "stream",
     "text": [
      "Downloading file from https://data.hycom.org/datasets/GLBu0.08/expt_91.2/data/hindcasts/2017/hycom_glb_912_2017090300_t000_uv3z.nc.\n",
      "\n",
      "Converted /home/filipe/Dropbox/Work/JueFi/Projetos/Proj_Modelagem_Oleo/hycom/hycom_glb_912_2017090300_t000_uv3z.nc to /home/filipe/Dropbox/Work/JueFi/Projetos/Proj_Modelagem_Oleo/hycom/hycom_glb_912_2017090300_t000_uv3z.nc4.\n",
      "File /home/filipe/Dropbox/Work/JueFi/Projetos/Proj_Modelagem_Oleo/hycom/hycom_glb_912_2017090300_t000_uv3z.nc already exits.\n"
     ]
    },
    {
     "name": "stderr",
     "output_type": "stream",
     "text": [
      "100%|██████████████████████████████████████████████████████████████████████████████████████████████████████████████████████████████████████████████████████████████████████████| 1.44G/1.44G [03:00<00:00, 7.97MiB/s]\n"
     ]
    },
    {
     "name": "stdout",
     "output_type": "stream",
     "text": [
      "Downloading file from https://data.hycom.org/datasets/GLBu0.08/expt_91.2/data/hindcasts/2017/hycom_glb_912_2017090400_t000_uv3z.nc.\n",
      "\n",
      "Converted /home/filipe/Dropbox/Work/JueFi/Projetos/Proj_Modelagem_Oleo/hycom/hycom_glb_912_2017090400_t000_uv3z.nc to /home/filipe/Dropbox/Work/JueFi/Projetos/Proj_Modelagem_Oleo/hycom/hycom_glb_912_2017090400_t000_uv3z.nc4.\n",
      "File /home/filipe/Dropbox/Work/JueFi/Projetos/Proj_Modelagem_Oleo/hycom/hycom_glb_912_2017090400_t000_uv3z.nc already exits.\n"
     ]
    },
    {
     "name": "stderr",
     "output_type": "stream",
     "text": [
      "100%|██████████████████████████████████████████████████████████████████████████████████████████████████████████████████████████████████████████████████████████████████████████| 1.44G/1.44G [02:50<00:00, 8.43MiB/s]\n"
     ]
    },
    {
     "name": "stdout",
     "output_type": "stream",
     "text": [
      "Downloading file from https://data.hycom.org/datasets/GLBu0.08/expt_91.2/data/hindcasts/2017/hycom_glb_912_2017090500_t000_uv3z.nc.\n",
      "\n",
      "Converted /home/filipe/Dropbox/Work/JueFi/Projetos/Proj_Modelagem_Oleo/hycom/hycom_glb_912_2017090500_t000_uv3z.nc to /home/filipe/Dropbox/Work/JueFi/Projetos/Proj_Modelagem_Oleo/hycom/hycom_glb_912_2017090500_t000_uv3z.nc4.\n",
      "File /home/filipe/Dropbox/Work/JueFi/Projetos/Proj_Modelagem_Oleo/hycom/hycom_glb_912_2017090500_t000_uv3z.nc already exits.\n"
     ]
    },
    {
     "name": "stderr",
     "output_type": "stream",
     "text": [
      "100%|██████████████████████████████████████████████████████████████████████████████████████████████████████████████████████████████████████████████████████████████████████████| 1.44G/1.44G [02:31<00:00, 9.51MiB/s]\n"
     ]
    },
    {
     "name": "stdout",
     "output_type": "stream",
     "text": [
      "Downloading file from https://data.hycom.org/datasets/GLBu0.08/expt_91.2/data/hindcasts/2017/hycom_glb_912_2017090600_t000_uv3z.nc.\n",
      "\n",
      "Converted /home/filipe/Dropbox/Work/JueFi/Projetos/Proj_Modelagem_Oleo/hycom/hycom_glb_912_2017090600_t000_uv3z.nc to /home/filipe/Dropbox/Work/JueFi/Projetos/Proj_Modelagem_Oleo/hycom/hycom_glb_912_2017090600_t000_uv3z.nc4.\n",
      "File /home/filipe/Dropbox/Work/JueFi/Projetos/Proj_Modelagem_Oleo/hycom/hycom_glb_912_2017090600_t000_uv3z.nc already exits.\n"
     ]
    },
    {
     "name": "stderr",
     "output_type": "stream",
     "text": [
      "100%|██████████████████████████████████████████████████████████████████████████████████████████████████████████████████████████████████████████████████████████████████████████| 1.44G/1.44G [02:22<00:00, 10.1MiB/s]\n"
     ]
    },
    {
     "name": "stdout",
     "output_type": "stream",
     "text": [
      "Downloading file from https://data.hycom.org/datasets/GLBu0.08/expt_91.2/data/hindcasts/2017/hycom_glb_912_2017090700_t000_uv3z.nc.\n",
      "\n",
      "Converted /home/filipe/Dropbox/Work/JueFi/Projetos/Proj_Modelagem_Oleo/hycom/hycom_glb_912_2017090700_t000_uv3z.nc to /home/filipe/Dropbox/Work/JueFi/Projetos/Proj_Modelagem_Oleo/hycom/hycom_glb_912_2017090700_t000_uv3z.nc4.\n",
      "File /home/filipe/Dropbox/Work/JueFi/Projetos/Proj_Modelagem_Oleo/hycom/hycom_glb_912_2017090700_t000_uv3z.nc already exits.\n"
     ]
    },
    {
     "name": "stderr",
     "output_type": "stream",
     "text": [
      "100%|██████████████████████████████████████████████████████████████████████████████████████████████████████████████████████████████████████████████████████████████████████████| 1.44G/1.44G [02:30<00:00, 9.59MiB/s]\n"
     ]
    },
    {
     "name": "stdout",
     "output_type": "stream",
     "text": [
      "Downloading file from https://data.hycom.org/datasets/GLBu0.08/expt_91.2/data/hindcasts/2017/hycom_glb_912_2017090800_t000_uv3z.nc.\n",
      "\n",
      "Converted /home/filipe/Dropbox/Work/JueFi/Projetos/Proj_Modelagem_Oleo/hycom/hycom_glb_912_2017090800_t000_uv3z.nc to /home/filipe/Dropbox/Work/JueFi/Projetos/Proj_Modelagem_Oleo/hycom/hycom_glb_912_2017090800_t000_uv3z.nc4.\n",
      "File /home/filipe/Dropbox/Work/JueFi/Projetos/Proj_Modelagem_Oleo/hycom/hycom_glb_912_2017090800_t000_uv3z.nc already exits.\n"
     ]
    },
    {
     "name": "stderr",
     "output_type": "stream",
     "text": [
      "100%|██████████████████████████████████████████████████████████████████████████████████████████████████████████████████████████████████████████████████████████████████████████| 1.44G/1.44G [03:26<00:00, 6.97MiB/s]\n"
     ]
    },
    {
     "name": "stdout",
     "output_type": "stream",
     "text": [
      "Downloading file from https://data.hycom.org/datasets/GLBu0.08/expt_91.2/data/hindcasts/2017/hycom_glb_912_2017090900_t000_uv3z.nc.\n",
      "\n",
      "Converted /home/filipe/Dropbox/Work/JueFi/Projetos/Proj_Modelagem_Oleo/hycom/hycom_glb_912_2017090900_t000_uv3z.nc to /home/filipe/Dropbox/Work/JueFi/Projetos/Proj_Modelagem_Oleo/hycom/hycom_glb_912_2017090900_t000_uv3z.nc4.\n",
      "File /home/filipe/Dropbox/Work/JueFi/Projetos/Proj_Modelagem_Oleo/hycom/hycom_glb_912_2017090900_t000_uv3z.nc already exits.\n"
     ]
    },
    {
     "name": "stderr",
     "output_type": "stream",
     "text": [
      "  2%|███                                                                                                                                                                      | 26.5M/1.44G [02:00<1:46:59, 220kiB/s]\n"
     ]
    },
    {
     "name": "stdout",
     "output_type": "stream",
     "text": [
      "Something went wrong while writing /home/filipe/Dropbox/Work/JueFi/Projetos/Proj_Modelagem_Oleo/hycom/hycom_glb_912_2017091000_t000_uv3z.nc.\n",
      "Downloading file from https://data.hycom.org/datasets/GLBu0.08/expt_91.2/data/hindcasts/2017/hycom_glb_912_2017091000_t000_uv3z.nc.\n",
      "\n",
      "Converted /home/filipe/Dropbox/Work/JueFi/Projetos/Proj_Modelagem_Oleo/hycom/hycom_glb_912_2017091000_t000_uv3z.nc to /home/filipe/Dropbox/Work/JueFi/Projetos/Proj_Modelagem_Oleo/hycom/hycom_glb_912_2017091000_t000_uv3z.nc4.\n",
      "File /home/filipe/Dropbox/Work/JueFi/Projetos/Proj_Modelagem_Oleo/hycom/hycom_glb_912_2017091000_t000_uv3z.nc already exits.\n"
     ]
    },
    {
     "name": "stderr",
     "output_type": "stream",
     "text": [
      "100%|██████████████████████████████████████████████████████████████████████████████████████████████████████████████████████████████████████████████████████████████████████████| 1.44G/1.44G [03:05<00:00, 7.79MiB/s]\n"
     ]
    },
    {
     "name": "stdout",
     "output_type": "stream",
     "text": [
      "Downloading file from https://data.hycom.org/datasets/GLBu0.08/expt_91.2/data/hindcasts/2017/hycom_glb_912_2017091100_t000_uv3z.nc.\n",
      "\n",
      "Converted /home/filipe/Dropbox/Work/JueFi/Projetos/Proj_Modelagem_Oleo/hycom/hycom_glb_912_2017091100_t000_uv3z.nc to /home/filipe/Dropbox/Work/JueFi/Projetos/Proj_Modelagem_Oleo/hycom/hycom_glb_912_2017091100_t000_uv3z.nc4.\n",
      "File /home/filipe/Dropbox/Work/JueFi/Projetos/Proj_Modelagem_Oleo/hycom/hycom_glb_912_2017091100_t000_uv3z.nc already exits.\n"
     ]
    },
    {
     "name": "stderr",
     "output_type": "stream",
     "text": [
      "100%|██████████████████████████████████████████████████████████████████████████████████████████████████████████████████████████████████████████████████████████████████████████| 1.44G/1.44G [02:09<00:00, 11.1MiB/s]\n"
     ]
    },
    {
     "name": "stdout",
     "output_type": "stream",
     "text": [
      "Downloading file from https://data.hycom.org/datasets/GLBu0.08/expt_91.2/data/hindcasts/2017/hycom_glb_912_2017091200_t000_uv3z.nc.\n",
      "\n",
      "Converted /home/filipe/Dropbox/Work/JueFi/Projetos/Proj_Modelagem_Oleo/hycom/hycom_glb_912_2017091200_t000_uv3z.nc to /home/filipe/Dropbox/Work/JueFi/Projetos/Proj_Modelagem_Oleo/hycom/hycom_glb_912_2017091200_t000_uv3z.nc4.\n",
      "File /home/filipe/Dropbox/Work/JueFi/Projetos/Proj_Modelagem_Oleo/hycom/hycom_glb_912_2017091200_t000_uv3z.nc already exits.\n"
     ]
    },
    {
     "name": "stderr",
     "output_type": "stream",
     "text": [
      "100%|██████████████████████████████████████████████████████████████████████████████████████████████████████████████████████████████████████████████████████████████████████████| 1.44G/1.44G [02:33<00:00, 9.39MiB/s]\n"
     ]
    },
    {
     "name": "stdout",
     "output_type": "stream",
     "text": [
      "Downloading file from https://data.hycom.org/datasets/GLBu0.08/expt_91.2/data/hindcasts/2017/hycom_glb_912_2017091300_t000_uv3z.nc.\n",
      "\n",
      "Converted /home/filipe/Dropbox/Work/JueFi/Projetos/Proj_Modelagem_Oleo/hycom/hycom_glb_912_2017091300_t000_uv3z.nc to /home/filipe/Dropbox/Work/JueFi/Projetos/Proj_Modelagem_Oleo/hycom/hycom_glb_912_2017091300_t000_uv3z.nc4.\n",
      "File /home/filipe/Dropbox/Work/JueFi/Projetos/Proj_Modelagem_Oleo/hycom/hycom_glb_912_2017091300_t000_uv3z.nc already exits.\n"
     ]
    },
    {
     "name": "stderr",
     "output_type": "stream",
     "text": [
      "100%|██████████████████████████████████████████████████████████████████████████████████████████████████████████████████████████████████████████████████████████████████████████| 1.44G/1.44G [02:42<00:00, 8.89MiB/s]\n"
     ]
    },
    {
     "name": "stdout",
     "output_type": "stream",
     "text": [
      "Downloading file from https://data.hycom.org/datasets/GLBu0.08/expt_91.2/data/hindcasts/2017/hycom_glb_912_2017091400_t000_uv3z.nc.\n",
      "\n",
      "Converted /home/filipe/Dropbox/Work/JueFi/Projetos/Proj_Modelagem_Oleo/hycom/hycom_glb_912_2017091400_t000_uv3z.nc to /home/filipe/Dropbox/Work/JueFi/Projetos/Proj_Modelagem_Oleo/hycom/hycom_glb_912_2017091400_t000_uv3z.nc4.\n",
      "File /home/filipe/Dropbox/Work/JueFi/Projetos/Proj_Modelagem_Oleo/hycom/hycom_glb_912_2017091400_t000_uv3z.nc already exits.\n"
     ]
    },
    {
     "name": "stderr",
     "output_type": "stream",
     "text": [
      "100%|██████████████████████████████████████████████████████████████████████████████████████████████████████████████████████████████████████████████████████████████████████████| 1.44G/1.44G [02:56<00:00, 8.16MiB/s]\n"
     ]
    },
    {
     "name": "stdout",
     "output_type": "stream",
     "text": [
      "Downloading file from https://data.hycom.org/datasets/GLBu0.08/expt_91.2/data/hindcasts/2017/hycom_glb_912_2017091500_t000_uv3z.nc.\n",
      "\n",
      "Converted /home/filipe/Dropbox/Work/JueFi/Projetos/Proj_Modelagem_Oleo/hycom/hycom_glb_912_2017091500_t000_uv3z.nc to /home/filipe/Dropbox/Work/JueFi/Projetos/Proj_Modelagem_Oleo/hycom/hycom_glb_912_2017091500_t000_uv3z.nc4.\n",
      "File /home/filipe/Dropbox/Work/JueFi/Projetos/Proj_Modelagem_Oleo/hycom/hycom_glb_912_2017091500_t000_uv3z.nc already exits.\n"
     ]
    },
    {
     "name": "stderr",
     "output_type": "stream",
     "text": [
      "100%|██████████████████████████████████████████████████████████████████████████████████████████████████████████████████████████████████████████████████████████████████████████| 1.44G/1.44G [04:28<00:00, 5.37MiB/s]\n"
     ]
    },
    {
     "name": "stdout",
     "output_type": "stream",
     "text": [
      "Downloading file from https://data.hycom.org/datasets/GLBu0.08/expt_91.2/data/hindcasts/2017/hycom_glb_912_2017091600_t000_uv3z.nc.\n",
      "\n",
      "Converted /home/filipe/Dropbox/Work/JueFi/Projetos/Proj_Modelagem_Oleo/hycom/hycom_glb_912_2017091600_t000_uv3z.nc to /home/filipe/Dropbox/Work/JueFi/Projetos/Proj_Modelagem_Oleo/hycom/hycom_glb_912_2017091600_t000_uv3z.nc4.\n",
      "File /home/filipe/Dropbox/Work/JueFi/Projetos/Proj_Modelagem_Oleo/hycom/hycom_glb_912_2017091600_t000_uv3z.nc already exits.\n"
     ]
    },
    {
     "name": "stderr",
     "output_type": "stream",
     "text": [
      "100%|██████████████████████████████████████████████████████████████████████████████████████████████████████████████████████████████████████████████████████████████████████████| 1.44G/1.44G [02:41<00:00, 8.90MiB/s]\n"
     ]
    },
    {
     "name": "stdout",
     "output_type": "stream",
     "text": [
      "Downloading file from https://data.hycom.org/datasets/GLBu0.08/expt_91.2/data/hindcasts/2017/hycom_glb_912_2017091700_t000_uv3z.nc.\n",
      "\n",
      "Converted /home/filipe/Dropbox/Work/JueFi/Projetos/Proj_Modelagem_Oleo/hycom/hycom_glb_912_2017091700_t000_uv3z.nc to /home/filipe/Dropbox/Work/JueFi/Projetos/Proj_Modelagem_Oleo/hycom/hycom_glb_912_2017091700_t000_uv3z.nc4.\n",
      "File /home/filipe/Dropbox/Work/JueFi/Projetos/Proj_Modelagem_Oleo/hycom/hycom_glb_912_2017091700_t000_uv3z.nc already exits.\n"
     ]
    },
    {
     "name": "stderr",
     "output_type": "stream",
     "text": [
      "100%|██████████████████████████████████████████████████████████████████████████████████████████████████████████████████████████████████████████████████████████████████████████| 1.44G/1.44G [03:55<00:00, 6.12MiB/s]\n"
     ]
    },
    {
     "name": "stdout",
     "output_type": "stream",
     "text": [
      "Downloading file from https://data.hycom.org/datasets/GLBu0.08/expt_91.2/data/hindcasts/2017/hycom_glb_912_2017091800_t000_uv3z.nc.\n",
      "\n",
      "Converted /home/filipe/Dropbox/Work/JueFi/Projetos/Proj_Modelagem_Oleo/hycom/hycom_glb_912_2017091800_t000_uv3z.nc to /home/filipe/Dropbox/Work/JueFi/Projetos/Proj_Modelagem_Oleo/hycom/hycom_glb_912_2017091800_t000_uv3z.nc4.\n",
      "File /home/filipe/Dropbox/Work/JueFi/Projetos/Proj_Modelagem_Oleo/hycom/hycom_glb_912_2017091800_t000_uv3z.nc already exits.\n"
     ]
    },
    {
     "name": "stderr",
     "output_type": "stream",
     "text": [
      "100%|██████████████████████████████████████████████████████████████████████████████████████████████████████████████████████████████████████████████████████████████████████████| 1.44G/1.44G [02:08<00:00, 11.2MiB/s]\n"
     ]
    },
    {
     "name": "stdout",
     "output_type": "stream",
     "text": [
      "Downloading file from https://data.hycom.org/datasets/GLBu0.08/expt_91.2/data/hindcasts/2017/hycom_glb_912_2017091900_t000_uv3z.nc.\n",
      "\n",
      "Converted /home/filipe/Dropbox/Work/JueFi/Projetos/Proj_Modelagem_Oleo/hycom/hycom_glb_912_2017091900_t000_uv3z.nc to /home/filipe/Dropbox/Work/JueFi/Projetos/Proj_Modelagem_Oleo/hycom/hycom_glb_912_2017091900_t000_uv3z.nc4.\n",
      "File /home/filipe/Dropbox/Work/JueFi/Projetos/Proj_Modelagem_Oleo/hycom/hycom_glb_912_2017091900_t000_uv3z.nc already exits.\n"
     ]
    },
    {
     "name": "stderr",
     "output_type": "stream",
     "text": [
      "100%|██████████████████████████████████████████████████████████████████████████████████████████████████████████████████████████████████████████████████████████████████████████| 1.44G/1.44G [02:13<00:00, 10.8MiB/s]\n"
     ]
    },
    {
     "name": "stdout",
     "output_type": "stream",
     "text": [
      "Downloading file from https://data.hycom.org/datasets/GLBu0.08/expt_91.2/data/hindcasts/2017/hycom_glb_912_2017092000_t000_uv3z.nc.\n",
      "\n",
      "Converted /home/filipe/Dropbox/Work/JueFi/Projetos/Proj_Modelagem_Oleo/hycom/hycom_glb_912_2017092000_t000_uv3z.nc to /home/filipe/Dropbox/Work/JueFi/Projetos/Proj_Modelagem_Oleo/hycom/hycom_glb_912_2017092000_t000_uv3z.nc4.\n",
      "File /home/filipe/Dropbox/Work/JueFi/Projetos/Proj_Modelagem_Oleo/hycom/hycom_glb_912_2017092000_t000_uv3z.nc already exits.\n"
     ]
    },
    {
     "name": "stderr",
     "output_type": "stream",
     "text": [
      "100%|██████████████████████████████████████████████████████████████████████████████████████████████████████████████████████████████████████████████████████████████████████████| 1.44G/1.44G [02:13<00:00, 10.8MiB/s]\n"
     ]
    },
    {
     "name": "stdout",
     "output_type": "stream",
     "text": [
      "Downloading file from https://data.hycom.org/datasets/GLBu0.08/expt_91.2/data/hindcasts/2017/hycom_glb_912_2017092100_t000_uv3z.nc.\n",
      "\n",
      "Converted /home/filipe/Dropbox/Work/JueFi/Projetos/Proj_Modelagem_Oleo/hycom/hycom_glb_912_2017092100_t000_uv3z.nc to /home/filipe/Dropbox/Work/JueFi/Projetos/Proj_Modelagem_Oleo/hycom/hycom_glb_912_2017092100_t000_uv3z.nc4.\n",
      "File /home/filipe/Dropbox/Work/JueFi/Projetos/Proj_Modelagem_Oleo/hycom/hycom_glb_912_2017092100_t000_uv3z.nc already exits.\n"
     ]
    },
    {
     "name": "stderr",
     "output_type": "stream",
     "text": [
      "100%|██████████████████████████████████████████████████████████████████████████████████████████████████████████████████████████████████████████████████████████████████████████| 1.44G/1.44G [02:11<00:00, 11.0MiB/s]\n"
     ]
    },
    {
     "name": "stdout",
     "output_type": "stream",
     "text": [
      "Downloading file from https://data.hycom.org/datasets/GLBu0.08/expt_91.2/data/hindcasts/2017/hycom_glb_912_2017092200_t000_uv3z.nc.\n",
      "\n",
      "Converted /home/filipe/Dropbox/Work/JueFi/Projetos/Proj_Modelagem_Oleo/hycom/hycom_glb_912_2017092200_t000_uv3z.nc to /home/filipe/Dropbox/Work/JueFi/Projetos/Proj_Modelagem_Oleo/hycom/hycom_glb_912_2017092200_t000_uv3z.nc4.\n",
      "File /home/filipe/Dropbox/Work/JueFi/Projetos/Proj_Modelagem_Oleo/hycom/hycom_glb_912_2017092200_t000_uv3z.nc already exits.\n"
     ]
    },
    {
     "name": "stderr",
     "output_type": "stream",
     "text": [
      "100%|██████████████████████████████████████████████████████████████████████████████████████████████████████████████████████████████████████████████████████████████████████████| 1.44G/1.44G [02:15<00:00, 10.6MiB/s]\n"
     ]
    },
    {
     "name": "stdout",
     "output_type": "stream",
     "text": [
      "Downloading file from https://data.hycom.org/datasets/GLBu0.08/expt_91.2/data/hindcasts/2017/hycom_glb_912_2017092300_t000_uv3z.nc.\n",
      "\n",
      "Converted /home/filipe/Dropbox/Work/JueFi/Projetos/Proj_Modelagem_Oleo/hycom/hycom_glb_912_2017092300_t000_uv3z.nc to /home/filipe/Dropbox/Work/JueFi/Projetos/Proj_Modelagem_Oleo/hycom/hycom_glb_912_2017092300_t000_uv3z.nc4.\n",
      "File /home/filipe/Dropbox/Work/JueFi/Projetos/Proj_Modelagem_Oleo/hycom/hycom_glb_912_2017092300_t000_uv3z.nc already exits.\n"
     ]
    },
    {
     "name": "stderr",
     "output_type": "stream",
     "text": [
      "100%|██████████████████████████████████████████████████████████████████████████████████████████████████████████████████████████████████████████████████████████████████████████| 1.44G/1.44G [02:25<00:00, 9.87MiB/s]\n"
     ]
    },
    {
     "name": "stdout",
     "output_type": "stream",
     "text": [
      "Downloading file from https://data.hycom.org/datasets/GLBu0.08/expt_91.2/data/hindcasts/2017/hycom_glb_912_2017092400_t000_uv3z.nc.\n",
      "\n",
      "Converted /home/filipe/Dropbox/Work/JueFi/Projetos/Proj_Modelagem_Oleo/hycom/hycom_glb_912_2017092400_t000_uv3z.nc to /home/filipe/Dropbox/Work/JueFi/Projetos/Proj_Modelagem_Oleo/hycom/hycom_glb_912_2017092400_t000_uv3z.nc4.\n",
      "File /home/filipe/Dropbox/Work/JueFi/Projetos/Proj_Modelagem_Oleo/hycom/hycom_glb_912_2017092400_t000_uv3z.nc already exits.\n"
     ]
    },
    {
     "name": "stderr",
     "output_type": "stream",
     "text": [
      "100%|██████████████████████████████████████████████████████████████████████████████████████████████████████████████████████████████████████████████████████████████████████████| 1.44G/1.44G [02:13<00:00, 10.8MiB/s]\n"
     ]
    },
    {
     "name": "stdout",
     "output_type": "stream",
     "text": [
      "Downloading file from https://data.hycom.org/datasets/GLBu0.08/expt_91.2/data/hindcasts/2017/hycom_glb_912_2017092500_t000_uv3z.nc.\n",
      "\n",
      "Converted /home/filipe/Dropbox/Work/JueFi/Projetos/Proj_Modelagem_Oleo/hycom/hycom_glb_912_2017092500_t000_uv3z.nc to /home/filipe/Dropbox/Work/JueFi/Projetos/Proj_Modelagem_Oleo/hycom/hycom_glb_912_2017092500_t000_uv3z.nc4.\n",
      "File /home/filipe/Dropbox/Work/JueFi/Projetos/Proj_Modelagem_Oleo/hycom/hycom_glb_912_2017092500_t000_uv3z.nc already exits.\n"
     ]
    },
    {
     "name": "stderr",
     "output_type": "stream",
     "text": [
      "100%|██████████████████████████████████████████████████████████████████████████████████████████████████████████████████████████████████████████████████████████████████████████| 1.44G/1.44G [02:22<00:00, 10.1MiB/s]\n"
     ]
    },
    {
     "name": "stdout",
     "output_type": "stream",
     "text": [
      "Downloading file from https://data.hycom.org/datasets/GLBu0.08/expt_91.2/data/hindcasts/2017/hycom_glb_912_2017092600_t000_uv3z.nc.\n",
      "\n",
      "Converted /home/filipe/Dropbox/Work/JueFi/Projetos/Proj_Modelagem_Oleo/hycom/hycom_glb_912_2017092600_t000_uv3z.nc to /home/filipe/Dropbox/Work/JueFi/Projetos/Proj_Modelagem_Oleo/hycom/hycom_glb_912_2017092600_t000_uv3z.nc4.\n",
      "File /home/filipe/Dropbox/Work/JueFi/Projetos/Proj_Modelagem_Oleo/hycom/hycom_glb_912_2017092600_t000_uv3z.nc already exits.\n"
     ]
    },
    {
     "name": "stderr",
     "output_type": "stream",
     "text": [
      "100%|██████████████████████████████████████████████████████████████████████████████████████████████████████████████████████████████████████████████████████████████████████████| 1.44G/1.44G [02:15<00:00, 10.6MiB/s]\n"
     ]
    },
    {
     "name": "stdout",
     "output_type": "stream",
     "text": [
      "Downloading file from https://data.hycom.org/datasets/GLBu0.08/expt_91.2/data/hindcasts/2017/hycom_glb_912_2017092800_t000_uv3z.nc.\n",
      "\n",
      "Converted /home/filipe/Dropbox/Work/JueFi/Projetos/Proj_Modelagem_Oleo/hycom/hycom_glb_912_2017092800_t000_uv3z.nc to /home/filipe/Dropbox/Work/JueFi/Projetos/Proj_Modelagem_Oleo/hycom/hycom_glb_912_2017092800_t000_uv3z.nc4.\n",
      "File /home/filipe/Dropbox/Work/JueFi/Projetos/Proj_Modelagem_Oleo/hycom/hycom_glb_912_2017092800_t000_uv3z.nc already exits.\n"
     ]
    },
    {
     "name": "stderr",
     "output_type": "stream",
     "text": [
      "100%|██████████████████████████████████████████████████████████████████████████████████████████████████████████████████████████████████████████████████████████████████████████| 1.44G/1.44G [03:04<00:00, 7.83MiB/s]\n"
     ]
    },
    {
     "name": "stdout",
     "output_type": "stream",
     "text": [
      "Downloading file from https://data.hycom.org/datasets/GLBu0.08/expt_91.2/data/hindcasts/2017/hycom_glb_912_2017092900_t000_uv3z.nc.\n",
      "\n",
      "Converted /home/filipe/Dropbox/Work/JueFi/Projetos/Proj_Modelagem_Oleo/hycom/hycom_glb_912_2017092900_t000_uv3z.nc to /home/filipe/Dropbox/Work/JueFi/Projetos/Proj_Modelagem_Oleo/hycom/hycom_glb_912_2017092900_t000_uv3z.nc4.\n",
      "File /home/filipe/Dropbox/Work/JueFi/Projetos/Proj_Modelagem_Oleo/hycom/hycom_glb_912_2017092900_t000_uv3z.nc already exits.\n"
     ]
    },
    {
     "name": "stderr",
     "output_type": "stream",
     "text": [
      "  9%|███████████████▉                                                                                                                                                          | 135M/1.44G [01:35<1:28:37, 246kiB/s]"
     ]
    }
   ],
   "source": [
    "for fname in name_list:\n",
    "    fname = Path(fname).absolute()\n",
    "    local_fname = fname.parent.joinpath(\"hycom\", fname.name)\n",
    "    \n",
    "    if not local_fname.with_suffix(\".nc4\").is_file():\n",
    "        remote = f\"{url}/{fname.name}\"\n",
    "        download(remote, local_fname)\n",
    "        print(f\"Downloading file from {remote}.\")\n",
    "        compress_netcdf(local_fname)\n",
    "        local_fname.unlink()\n",
    "    else:\n",
    "        print(f\"File {local_fname} already exits.\")"
   ]
  }
 ],
 "metadata": {
  "kernelspec": {
   "display_name": "Python 3 (ipykernel)",
   "language": "python",
   "name": "python3"
  },
  "language_info": {
   "codemirror_mode": {
    "name": "ipython",
    "version": 3
   },
   "file_extension": ".py",
   "mimetype": "text/x-python",
   "name": "python",
   "nbconvert_exporter": "python",
   "pygments_lexer": "ipython3",
   "version": "3.10.5"
  }
 },
 "nbformat": 4,
 "nbformat_minor": 5
}
