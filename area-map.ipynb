{
 "cells": [
  {
   "cell_type": "code",
   "execution_count": 1,
   "id": "541641d5",
   "metadata": {},
   "outputs": [],
   "source": [
    "import folium\n",
    "import folium.plugins\n",
    "\n",
    "\n",
    "\n",
    "m = folium.Map(location=[-29, -49], zoom_start=6)\n",
    "folium.LatLngPopup().add_to(m)\n",
    "folium.plugins.Draw().add_to(m);"
   ]
  },
  {
   "cell_type": "markdown",
   "id": "dcae1f3e",
   "metadata": {},
   "source": [
    "### Área de extração de dados para o modelo."
   ]
  },
  {
   "cell_type": "code",
   "execution_count": 2,
   "id": "5b38ff4a",
   "metadata": {},
   "outputs": [],
   "source": [
    "# 2016-12-06 a 2019-12-06\n",
    "\n",
    "y0, y1 = -33, -24\n",
    "x0, x1 = -53, -44\n",
    "\n",
    "\n",
    "points = [\n",
    "    (y0, x0),\n",
    "    (y1, x0),\n",
    "    (y1, x1),\n",
    "    (y0, x1),\n",
    "    (y0, x0),\n",
    "]\n",
    "\n",
    "folium.PolyLine(points, weight=3, color=\"red\").add_to(m);"
   ]
  },
  {
   "cell_type": "markdown",
   "id": "a77cf369",
   "metadata": {},
   "source": [
    "### Posição dos poços de interesse."
   ]
  },
  {
   "cell_type": "code",
   "execution_count": 3,
   "id": "c94d840c",
   "metadata": {},
   "outputs": [],
   "source": [
    "wells = {\n",
    "    \"FPSO\": {  # FPSO Cidade de Itajaí\n",
    "        \"lat\": -26.4666383,\n",
    "        \"lon\": -46.5286883,\n",
    "    },\n",
    "    \"BRSA\": {  # Poço 3-BRSA-1024\n",
    "        \"lat\": -26.4162525,\n",
    "        \"lon\": -46.4819844,\n",
    "    },\n",
    "}\n",
    "\n",
    "folium.Marker(\n",
    "    location=[wells[\"FPSO\"][\"lat\"], wells[\"FPSO\"][\"lon\"]]\n",
    ").add_to(m)\n",
    "\n",
    "folium.Marker(\n",
    "    location=[wells[\"BRSA\"][\"lat\"], wells[\"BRSA\"][\"lon\"]]\n",
    ").add_to(m);"
   ]
  },
  {
   "cell_type": "code",
   "execution_count": 4,
   "id": "22b2ff3a",
   "metadata": {},
   "outputs": [
    {
     "data": {
      "text/html": [
       "<div style=\"width:100%;\"><div style=\"position:relative;width:100%;height:0;padding-bottom:60%;\"><span style=\"color:#565656\">Make this Notebook Trusted to load map: File -> Trust Notebook</span><iframe srcdoc=\"&lt;!DOCTYPE html&gt;\n",
       "&lt;head&gt;    \n",
       "    &lt;meta http-equiv=&quot;content-type&quot; content=&quot;text/html; charset=UTF-8&quot; /&gt;\n",
       "    \n",
       "        &lt;script&gt;\n",
       "            L_NO_TOUCH = false;\n",
       "            L_DISABLE_3D = false;\n",
       "        &lt;/script&gt;\n",
       "    \n",
       "    &lt;style&gt;html, body {width: 100%;height: 100%;margin: 0;padding: 0;}&lt;/style&gt;\n",
       "    &lt;style&gt;#map {position:absolute;top:0;bottom:0;right:0;left:0;}&lt;/style&gt;\n",
       "    &lt;script src=&quot;https://cdn.jsdelivr.net/npm/leaflet@1.6.0/dist/leaflet.js&quot;&gt;&lt;/script&gt;\n",
       "    &lt;script src=&quot;https://code.jquery.com/jquery-1.12.4.min.js&quot;&gt;&lt;/script&gt;\n",
       "    &lt;script src=&quot;https://maxcdn.bootstrapcdn.com/bootstrap/3.2.0/js/bootstrap.min.js&quot;&gt;&lt;/script&gt;\n",
       "    &lt;script src=&quot;https://cdnjs.cloudflare.com/ajax/libs/Leaflet.awesome-markers/2.0.2/leaflet.awesome-markers.js&quot;&gt;&lt;/script&gt;\n",
       "    &lt;link rel=&quot;stylesheet&quot; href=&quot;https://cdn.jsdelivr.net/npm/leaflet@1.6.0/dist/leaflet.css&quot;/&gt;\n",
       "    &lt;link rel=&quot;stylesheet&quot; href=&quot;https://maxcdn.bootstrapcdn.com/bootstrap/3.2.0/css/bootstrap.min.css&quot;/&gt;\n",
       "    &lt;link rel=&quot;stylesheet&quot; href=&quot;https://maxcdn.bootstrapcdn.com/bootstrap/3.2.0/css/bootstrap-theme.min.css&quot;/&gt;\n",
       "    &lt;link rel=&quot;stylesheet&quot; href=&quot;https://maxcdn.bootstrapcdn.com/font-awesome/4.6.3/css/font-awesome.min.css&quot;/&gt;\n",
       "    &lt;link rel=&quot;stylesheet&quot; href=&quot;https://cdnjs.cloudflare.com/ajax/libs/Leaflet.awesome-markers/2.0.2/leaflet.awesome-markers.css&quot;/&gt;\n",
       "    &lt;link rel=&quot;stylesheet&quot; href=&quot;https://cdn.jsdelivr.net/gh/python-visualization/folium/folium/templates/leaflet.awesome.rotate.min.css&quot;/&gt;\n",
       "    \n",
       "            &lt;meta name=&quot;viewport&quot; content=&quot;width=device-width,\n",
       "                initial-scale=1.0, maximum-scale=1.0, user-scalable=no&quot; /&gt;\n",
       "            &lt;style&gt;\n",
       "                #map_ff344b93c2c6aff5629edbbd7477fb4f {\n",
       "                    position: relative;\n",
       "                    width: 100.0%;\n",
       "                    height: 100.0%;\n",
       "                    left: 0.0%;\n",
       "                    top: 0.0%;\n",
       "                }\n",
       "            &lt;/style&gt;\n",
       "        \n",
       "    &lt;script src=&quot;https://cdnjs.cloudflare.com/ajax/libs/leaflet.draw/1.0.2/leaflet.draw.js&quot;&gt;&lt;/script&gt;\n",
       "    &lt;link rel=&quot;stylesheet&quot; href=&quot;https://cdnjs.cloudflare.com/ajax/libs/leaflet.draw/1.0.2/leaflet.draw.css&quot;/&gt;\n",
       "&lt;/head&gt;\n",
       "&lt;body&gt;    \n",
       "    \n",
       "            &lt;div class=&quot;folium-map&quot; id=&quot;map_ff344b93c2c6aff5629edbbd7477fb4f&quot; &gt;&lt;/div&gt;\n",
       "        \n",
       "&lt;/body&gt;\n",
       "&lt;script&gt;    \n",
       "    \n",
       "            var map_ff344b93c2c6aff5629edbbd7477fb4f = L.map(\n",
       "                &quot;map_ff344b93c2c6aff5629edbbd7477fb4f&quot;,\n",
       "                {\n",
       "                    center: [-29.0, -49.0],\n",
       "                    crs: L.CRS.EPSG3857,\n",
       "                    zoom: 6,\n",
       "                    zoomControl: true,\n",
       "                    preferCanvas: false,\n",
       "                }\n",
       "            );\n",
       "\n",
       "            \n",
       "\n",
       "        \n",
       "    \n",
       "            var tile_layer_9580656fb1fc2ddcc459e15ad5224e3b = L.tileLayer(\n",
       "                &quot;https://{s}.tile.openstreetmap.org/{z}/{x}/{y}.png&quot;,\n",
       "                {&quot;attribution&quot;: &quot;Data by \\u0026copy; \\u003ca href=\\&quot;http://openstreetmap.org\\&quot;\\u003eOpenStreetMap\\u003c/a\\u003e, under \\u003ca href=\\&quot;http://www.openstreetmap.org/copyright\\&quot;\\u003eODbL\\u003c/a\\u003e.&quot;, &quot;detectRetina&quot;: false, &quot;maxNativeZoom&quot;: 18, &quot;maxZoom&quot;: 18, &quot;minZoom&quot;: 0, &quot;noWrap&quot;: false, &quot;opacity&quot;: 1, &quot;subdomains&quot;: &quot;abc&quot;, &quot;tms&quot;: false}\n",
       "            ).addTo(map_ff344b93c2c6aff5629edbbd7477fb4f);\n",
       "        \n",
       "    \n",
       "                var lat_lng_popup_52b0c4bdf6edc020755a83f49a98bc23 = L.popup();\n",
       "                function latLngPop(e) {\n",
       "                    lat_lng_popup_52b0c4bdf6edc020755a83f49a98bc23\n",
       "                        .setLatLng(e.latlng)\n",
       "                        .setContent(&quot;Latitude: &quot; + e.latlng.lat.toFixed(4) +\n",
       "                                    &quot;&lt;br&gt;Longitude: &quot; + e.latlng.lng.toFixed(4))\n",
       "                        .openOn(map_ff344b93c2c6aff5629edbbd7477fb4f);\n",
       "                    }\n",
       "                map_ff344b93c2c6aff5629edbbd7477fb4f.on(&#x27;click&#x27;, latLngPop);\n",
       "            \n",
       "    \n",
       "            var options = {\n",
       "              position: &quot;topleft&quot;,\n",
       "              draw: {},\n",
       "              edit: {},\n",
       "            }\n",
       "            // FeatureGroup is to store editable layers.\n",
       "            var drawnItems = new L.featureGroup().addTo(\n",
       "                map_ff344b93c2c6aff5629edbbd7477fb4f\n",
       "            );\n",
       "            options.edit.featureGroup = drawnItems;\n",
       "            var draw_control_508e169415f91bd935f6d0167f17f22c = new L.Control.Draw(\n",
       "                options\n",
       "            ).addTo( map_ff344b93c2c6aff5629edbbd7477fb4f );\n",
       "            map_ff344b93c2c6aff5629edbbd7477fb4f.on(L.Draw.Event.CREATED, function(e) {\n",
       "                var layer = e.layer,\n",
       "                    type = e.layerType;\n",
       "                var coords = JSON.stringify(layer.toGeoJSON());\n",
       "                layer.on(&#x27;click&#x27;, function() {\n",
       "                    alert(coords);\n",
       "                    console.log(coords);\n",
       "                });\n",
       "                drawnItems.addLayer(layer);\n",
       "             });\n",
       "            map_ff344b93c2c6aff5629edbbd7477fb4f.on(&#x27;draw:created&#x27;, function(e) {\n",
       "                drawnItems.addLayer(e.layer);\n",
       "            });\n",
       "            \n",
       "        \n",
       "    \n",
       "            var poly_line_cc34419a70a4204df040fc48a955f38d = L.polyline(\n",
       "                [[-33.0, -53.0], [-24.0, -53.0], [-24.0, -44.0], [-33.0, -44.0], [-33.0, -53.0]],\n",
       "                {&quot;bubblingMouseEvents&quot;: true, &quot;color&quot;: &quot;red&quot;, &quot;dashArray&quot;: null, &quot;dashOffset&quot;: null, &quot;fill&quot;: false, &quot;fillColor&quot;: &quot;red&quot;, &quot;fillOpacity&quot;: 0.2, &quot;fillRule&quot;: &quot;evenodd&quot;, &quot;lineCap&quot;: &quot;round&quot;, &quot;lineJoin&quot;: &quot;round&quot;, &quot;noClip&quot;: false, &quot;opacity&quot;: 1.0, &quot;smoothFactor&quot;: 1.0, &quot;stroke&quot;: true, &quot;weight&quot;: 3}\n",
       "            ).addTo(map_ff344b93c2c6aff5629edbbd7477fb4f);\n",
       "        \n",
       "    \n",
       "            var marker_ee5184d2045199e0af47ea3303536d42 = L.marker(\n",
       "                [-26.4666383, -46.5286883],\n",
       "                {}\n",
       "            ).addTo(map_ff344b93c2c6aff5629edbbd7477fb4f);\n",
       "        \n",
       "    \n",
       "            var marker_e7ca3cc41226aea05884044fd8e1bfda = L.marker(\n",
       "                [-26.4162525, -46.4819844],\n",
       "                {}\n",
       "            ).addTo(map_ff344b93c2c6aff5629edbbd7477fb4f);\n",
       "        \n",
       "&lt;/script&gt;\" style=\"position:absolute;width:100%;height:100%;left:0;top:0;border:none !important;\" allowfullscreen webkitallowfullscreen mozallowfullscreen></iframe></div></div>"
      ],
      "text/plain": [
       "<folium.folium.Map at 0x7f07cf537bb0>"
      ]
     },
     "execution_count": 4,
     "metadata": {},
     "output_type": "execute_result"
    }
   ],
   "source": [
    "m"
   ]
  }
 ],
 "metadata": {
  "_draft": {
   "nbviewer_url": "https://gist.github.com/c0c0ec05edc4bc716b0ed25e6bd9a670"
  },
  "gist": {
   "data": {
    "description": "oilmap",
    "public": true
   },
   "id": "c0c0ec05edc4bc716b0ed25e6bd9a670"
  },
  "kernelspec": {
   "display_name": "Python 3 (ipykernel)",
   "language": "python",
   "name": "python3"
  },
  "language_info": {
   "codemirror_mode": {
    "name": "ipython",
    "version": 3
   },
   "file_extension": ".py",
   "mimetype": "text/x-python",
   "name": "python",
   "nbconvert_exporter": "python",
   "pygments_lexer": "ipython3",
   "version": "3.10.4"
  },
  "widgets": {
   "application/vnd.jupyter.widget-state+json": {
    "state": {},
    "version_major": 2,
    "version_minor": 0
   }
  }
 },
 "nbformat": 4,
 "nbformat_minor": 5
}
